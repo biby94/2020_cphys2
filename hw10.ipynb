{
  "nbformat": 4,
  "nbformat_minor": 0,
  "metadata": {
    "colab": {
      "name": "hw10.ipynb",
      "provenance": [],
      "collapsed_sections": [],
      "authorship_tag": "ABX9TyOqHhFFM9f3Q4/OtvRrgtA3"
    },
    "kernelspec": {
      "name": "python3",
      "display_name": "Python 3"
    }
  },
  "cells": [
    {
      "cell_type": "markdown",
      "metadata": {
        "id": "UengyZLBPAPq"
      },
      "source": [
        "\n",
        "IMDB Datasets"
      ]
    },
    {
      "cell_type": "code",
      "metadata": {
        "id": "na7fD8tGPA2g"
      },
      "source": [
        "import numpy as np\n",
        "from tensorflow import keras\n",
        "from keras import models \n",
        "from keras import layers\n",
        "import matplotlib.pyplot as plt\n",
        "\n",
        "from keras.datasets import imdb\n",
        "# https://www.imdb.com/\n",
        "(X, y_train), (X_test, y_test) = imdb.load_data(num_words=10000)"
      ],
      "execution_count": 16,
      "outputs": []
    },
    {
      "cell_type": "code",
      "metadata": {
        "id": "6mx76vXLPH-2"
      },
      "source": [
        "# text to vector\n",
        "def vect(seq, dim=10000):\n",
        "    x=np.zeros((len(seq),dim))\n",
        "    for n, i in enumerate(seq):\n",
        "        x[n, i] = 1\n",
        "    return x\n",
        "\n",
        "X_train=vect(X)\n",
        "X_test=vect(X_test)"
      ],
      "execution_count": 17,
      "outputs": []
    },
    {
      "cell_type": "code",
      "metadata": {
        "colab": {
          "base_uri": "https://localhost:8080/"
        },
        "id": "qMUYqt1xPdQj",
        "outputId": "b0adea4e-b990-4c69-c140-a0fcce042fbb"
      },
      "source": [
        "X_train[0]"
      ],
      "execution_count": 18,
      "outputs": [
        {
          "output_type": "execute_result",
          "data": {
            "text/plain": [
              "array([0., 1., 1., ..., 0., 0., 0.])"
            ]
          },
          "metadata": {
            "tags": []
          },
          "execution_count": 18
        }
      ]
    },
    {
      "cell_type": "code",
      "metadata": {
        "colab": {
          "base_uri": "https://localhost:8080/"
        },
        "id": "lp8-Ao_kPfCc",
        "outputId": "844889de-59a8-465d-dd49-ad85fcda18bd"
      },
      "source": [
        "net = models.Sequential()\n",
        "net.add(layers.Dense(16, activation='relu', input_shape=(10000,)))\n",
        "net.add(layers.Dropout(0.5))\n",
        "net.add(layers.Dense(16, activation='relu'))\n",
        "net.add(layers.Dropout(0.5))\n",
        "net.add(layers.Dense(1, activation='sigmoid'))\n",
        "net.compile(optimizer='nadam', loss='binary_crossentropy', metrics = ['acc'])\n",
        "\n",
        "X_val = X_train[:10000]\n",
        "partial_X_train = X_train[10000:]\n",
        "\n",
        "y_val = y_train[:10000]\n",
        "partial_y_train = y_train[10000:]\n",
        "\n",
        "val = net.fit(partial_X_train, partial_y_train, epochs=5, batch_size=128, validation_data=(X_val, y_val))"
      ],
      "execution_count": 19,
      "outputs": [
        {
          "output_type": "stream",
          "text": [
            "Epoch 1/5\n",
            "118/118 [==============================] - 2s 14ms/step - loss: 0.6007 - acc: 0.6620 - val_loss: 0.3956 - val_acc: 0.8625\n",
            "Epoch 2/5\n",
            "118/118 [==============================] - 1s 12ms/step - loss: 0.3816 - acc: 0.8458 - val_loss: 0.3011 - val_acc: 0.8806\n",
            "Epoch 3/5\n",
            "118/118 [==============================] - 1s 12ms/step - loss: 0.2821 - acc: 0.8975 - val_loss: 0.2868 - val_acc: 0.8880\n",
            "Epoch 4/5\n",
            "118/118 [==============================] - 1s 12ms/step - loss: 0.2239 - acc: 0.9208 - val_loss: 0.2860 - val_acc: 0.8818\n",
            "Epoch 5/5\n",
            "118/118 [==============================] - 1s 12ms/step - loss: 0.1879 - acc: 0.9329 - val_loss: 0.3153 - val_acc: 0.8878\n"
          ],
          "name": "stdout"
        }
      ]
    },
    {
      "cell_type": "code",
      "metadata": {
        "colab": {
          "base_uri": "https://localhost:8080/",
          "height": 283
        },
        "id": "_uJ9bO0-PjCS",
        "outputId": "364ab28d-dbe2-401b-995f-9770ded6d3f8"
      },
      "source": [
        "val_dict = val.history\n",
        "loss = val_dict['loss']\n",
        "val_loss = val_dict['val_loss']\n",
        "x = np.arange(0,len(loss))\n",
        "\n",
        "plt.plot(x,loss,'-')\n",
        "plt.plot(x,val_loss,'o')"
      ],
      "execution_count": 20,
      "outputs": [
        {
          "output_type": "execute_result",
          "data": {
            "text/plain": [
              "[<matplotlib.lines.Line2D at 0x7f80dc0068d0>]"
            ]
          },
          "metadata": {
            "tags": []
          },
          "execution_count": 20
        },
        {
          "output_type": "display_data",
          "data": {
            "image/png": "[encoded data removed]",
            "text/plain": [
              "<Figure size 432x288 with 1 Axes>"
            ]
          },
          "metadata": {
            "tags": [],
            "needs_background": "light"
          }
        }
      ]
    },
    {
      "cell_type": "code",
      "metadata": {
        "colab": {
          "base_uri": "https://localhost:8080/"
        },
        "id": "vFYeHcdmPnES",
        "outputId": "6983f2d9-706a-41f6-ceb0-1ad2d37bdd66"
      },
      "source": [
        "test_loss, test_acc = net.evaluate(X_test,y_test)"
      ],
      "execution_count": 21,
      "outputs": [
        {
          "output_type": "stream",
          "text": [
            "782/782 [==============================] - 1s 2ms/step - loss: 0.3282 - acc: 0.8805\n"
          ],
          "name": "stdout"
        }
      ]
    },
    {
      "cell_type": "markdown",
      "metadata": {
        "id": "o6TrGm29PriS"
      },
      "source": [
        "IMDB Classification using simple RNN"
      ]
    },
    {
      "cell_type": "code",
      "metadata": {
        "id": "NdVAYq2Un_vH"
      },
      "source": [
        "from keras.preprocessing import sequence\n",
        "\n",
        "max_words=10000 \n",
        "(X_train, y_train), (X_test, y_test) = imdb.load_data(num_words=max_words)\n",
        "\n",
        "maxlen = 100 # sequence length\n",
        "X_train = sequence.pad_sequences(X_train, maxlen=maxlen)\n",
        "X_test = sequence.pad_sequences(X_test, maxlen=maxlen)\n"
      ],
      "execution_count": 36,
      "outputs": []
    },
    {
      "cell_type": "code",
      "metadata": {
        "colab": {
          "base_uri": "https://localhost:8080/"
        },
        "id": "JlKosgsLPwzK",
        "outputId": "cef94d7a-3f33-4b0c-d994-5aeacecb9f38"
      },
      "source": [
        "X_train[0]"
      ],
      "execution_count": 37,
      "outputs": [
        {
          "output_type": "execute_result",
          "data": {
            "text/plain": [
              "array([1415,   33,    6,   22,   12,  215,   28,   77,   52,    5,   14,\n",
              "        407,   16,   82,    2,    8,    4,  107,  117, 5952,   15,  256,\n",
              "          4,    2,    7, 3766,    5,  723,   36,   71,   43,  530,  476,\n",
              "         26,  400,  317,   46,    7,    4,    2, 1029,   13,  104,   88,\n",
              "          4,  381,   15,  297,   98,   32, 2071,   56,   26,  141,    6,\n",
              "        194, 7486,   18,    4,  226,   22,   21,  134,  476,   26,  480,\n",
              "          5,  144,   30, 5535,   18,   51,   36,   28,  224,   92,   25,\n",
              "        104,    4,  226,   65,   16,   38, 1334,   88,   12,   16,  283,\n",
              "          5,   16, 4472,  113,  103,   32,   15,   16, 5345,   19,  178,\n",
              "         32], dtype=int32)"
            ]
          },
          "metadata": {
            "tags": []
          },
          "execution_count": 37
        }
      ]
    },
    {
      "cell_type": "code",
      "metadata": {
        "id": "8MVlgy2BPzIh"
      },
      "source": [
        "rnn = models.Sequential()\n",
        "rnn.add(layers.Embedding(max_words, 16)) # 각각의 단어를 n=16 차원 공간에 올리기\n",
        "rnn.add(layers.SimpleRNN(32,return_sequences='True')) \n",
        "# 다층 RNN를 하기 위해 return_sequences = True로 설정"
      ],
      "execution_count": 38,
      "outputs": []
    },
    {
      "cell_type": "code",
      "metadata": {
        "id": "Er_KmqICP1fx"
      },
      "source": [
        "rnn.add(layers.Dropout(0.2))\n",
        "rnn.add(layers.SimpleRNN(16))\n",
        "rnn.add(layers.Dropout(0.2))\n",
        "rnn.add(layers.Dense(1, activation='sigmoid'))\n",
        "rnn.compile(optimizer='nadam',loss='binary_crossentropy',metrics=['acc'])"
      ],
      "execution_count": 39,
      "outputs": []
    },
    {
      "cell_type": "code",
      "metadata": {
        "colab": {
          "base_uri": "https://localhost:8080/"
        },
        "id": "TMGo1zM2bNRh",
        "outputId": "99df9bec-5399-4d5f-bfd0-42f8307c5064"
      },
      "source": [
        "rnn.summary()"
      ],
      "execution_count": 40,
      "outputs": [
        {
          "output_type": "stream",
          "text": [
            "Model: \"sequential_9\"\n",
            "_________________________________________________________________\n",
            "Layer (type)                 Output Shape              Param #   \n",
            "=================================================================\n",
            "embedding (Embedding)        (None, None, 16)          160000    \n",
            "_________________________________________________________________\n",
            "simple_rnn_1 (SimpleRNN)     (None, None, 32)          1568      \n",
            "_________________________________________________________________\n",
            "dropout_8 (Dropout)          (None, None, 32)          0         \n",
            "_________________________________________________________________\n",
            "simple_rnn_2 (SimpleRNN)     (None, 16)                784       \n",
            "_________________________________________________________________\n",
            "dropout_9 (Dropout)          (None, 16)                0         \n",
            "_________________________________________________________________\n",
            "dense_10 (Dense)             (None, 1)                 17        \n",
            "=================================================================\n",
            "Total params: 162,369\n",
            "Trainable params: 162,369\n",
            "Non-trainable params: 0\n",
            "_________________________________________________________________\n"
          ],
          "name": "stdout"
        }
      ]
    },
    {
      "cell_type": "code",
      "metadata": {
        "colab": {
          "base_uri": "https://localhost:8080/"
        },
        "id": "Q_jqani6bsIY",
        "outputId": "adfab4d8-93ac-4bbb-f400-1ee20c1a8844"
      },
      "source": [
        "history=rnn.fit(X_train, y_train, epochs=10, batch_size=128, validation_split=0.2)"
      ],
      "execution_count": 41,
      "outputs": [
        {
          "output_type": "stream",
          "text": [
            "Epoch 1/10\n",
            "157/157 [==============================] - 10s 61ms/step - loss: 0.7138 - acc: 0.5124 - val_loss: 0.6770 - val_acc: 0.5542\n",
            "Epoch 2/10\n",
            "157/157 [==============================] - 9s 59ms/step - loss: 0.5288 - acc: 0.7300 - val_loss: 0.4050 - val_acc: 0.8254\n",
            "Epoch 3/10\n",
            "157/157 [==============================] - 9s 60ms/step - loss: 0.3366 - acc: 0.8613 - val_loss: 0.3982 - val_acc: 0.8244\n",
            "Epoch 4/10\n",
            "157/157 [==============================] - 10s 61ms/step - loss: 0.2618 - acc: 0.9003 - val_loss: 0.4249 - val_acc: 0.8236\n",
            "Epoch 5/10\n",
            "157/157 [==============================] - 9s 59ms/step - loss: 0.1983 - acc: 0.9280 - val_loss: 0.4571 - val_acc: 0.8322\n",
            "Epoch 6/10\n",
            "157/157 [==============================] - 9s 58ms/step - loss: 0.1285 - acc: 0.9571 - val_loss: 0.5824 - val_acc: 0.8260\n",
            "Epoch 7/10\n",
            "157/157 [==============================] - 9s 57ms/step - loss: 0.0816 - acc: 0.9742 - val_loss: 0.6203 - val_acc: 0.8228\n",
            "Epoch 8/10\n",
            "157/157 [==============================] - 9s 57ms/step - loss: 0.0501 - acc: 0.9851 - val_loss: 0.6638 - val_acc: 0.7934\n",
            "Epoch 9/10\n",
            "157/157 [==============================] - 9s 57ms/step - loss: 0.0302 - acc: 0.9915 - val_loss: 0.7471 - val_acc: 0.8146\n",
            "Epoch 10/10\n",
            "157/157 [==============================] - 9s 58ms/step - loss: 0.0146 - acc: 0.9972 - val_loss: 0.8607 - val_acc: 0.8050\n"
          ],
          "name": "stdout"
        }
      ]
    },
    {
      "cell_type": "code",
      "metadata": {
        "colab": {
          "base_uri": "https://localhost:8080/",
          "height": 287
        },
        "id": "g3oe783WflFm",
        "outputId": "a8e16440-d7de-4650-a1f3-f2b52b1d7018"
      },
      "source": [
        "loss=history.history['loss']\n",
        "val=history.history['val_loss']\n",
        "plt.ylim(0.1)\n",
        "plt.plot(loss)\n",
        "plt.plot(val,'o')"
      ],
      "execution_count": 42,
      "outputs": [
        {
          "output_type": "execute_result",
          "data": {
            "text/plain": [
              "[<matplotlib.lines.Line2D at 0x7f80d543c5f8>]"
            ]
          },
          "metadata": {
            "tags": []
          },
          "execution_count": 42
        },
        {
          "output_type": "display_data",
          "data": {
            "image/png": "[encoded data removed]",
            "text/plain": [
              "<Figure size 432x288 with 1 Axes>"
            ]
          },
          "metadata": {
            "tags": [],
            "needs_background": "light"
          }
        }
      ]
    },
    {
      "cell_type": "code",
      "metadata": {
        "id": "hgU_omFbhk2A"
      },
      "source": [
        "y1=rnn.predict(X_train).flatten()\n",
        "y2=y_train"
      ],
      "execution_count": 43,
      "outputs": []
    },
    {
      "cell_type": "code",
      "metadata": {
        "colab": {
          "base_uri": "https://localhost:8080/"
        },
        "id": "h4lhpXuKkuLP",
        "outputId": "ef27059c-6fbc-478d-c92a-e6df290ced1d"
      },
      "source": [
        "np.mean(np.abs(y1-y2))"
      ],
      "execution_count": 44,
      "outputs": [
        {
          "output_type": "execute_result",
          "data": {
            "text/plain": [
              "0.04603489715695381"
            ]
          },
          "metadata": {
            "tags": []
          },
          "execution_count": 44
        }
      ]
    },
    {
      "cell_type": "code",
      "metadata": {
        "id": "F9ONXETUpzBD"
      },
      "source": [
        ""
      ],
      "execution_count": null,
      "outputs": []
    }
  ]
}