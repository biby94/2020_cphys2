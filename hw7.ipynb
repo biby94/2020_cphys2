{
  "nbformat": 4,
  "nbformat_minor": 0,
  "metadata": {
    "colab": {
      "name": "hw7.ipynb",
      "provenance": [],
      "collapsed_sections": [],
      "authorship_tag": "ABX9TyN9/ai9ZarYTXDa7027vIzX",
      "include_colab_link": true
    },
    "kernelspec": {
      "name": "python3",
      "display_name": "Python 3"
    }
  },
  "cells": [
    {
      "cell_type": "markdown",
      "metadata": {
        "id": "view-in-github",
        "colab_type": "text"
      },
      "source": [
        "<a href=\"https://colab.research.google.com/github/biby94/2020_cphys2/blob/master/hw7.ipynb\" target=\"_parent\"><img src=\"https://colab.research.google.com/assets/colab-badge.svg\" alt=\"Open In Colab\"/></a>"
      ]
    },
    {
      "cell_type": "markdown",
      "metadata": {
        "id": "W-p0TgyXgtrC"
      },
      "source": [
        "MNIST\n",
        "1. Softmax Regression"
      ]
    },
    {
      "cell_type": "code",
      "metadata": {
        "id": "OkmURXXda08v"
      },
      "source": [
        "from keras.datasets import mnist\n",
        "from tensorflow import keras\n",
        "from keras import models \n",
        "from keras import layers\n",
        "import numpy as np\n",
        "import matplotlib.pyplot as plt\n",
        "from keras.utils import to_categorical\n",
        "\n",
        "(x, y), (xtest, y_test) = mnist.load_data()\n",
        "y_train=to_categorical(y)\n",
        "y_test=to_categorical(y_test)"
      ],
      "execution_count": 43,
      "outputs": []
    },
    {
      "cell_type": "code",
      "metadata": {
        "id": "GkIzKUyCa19K"
      },
      "source": [
        "net = models.Sequential()\n",
        "net.add(layers.Dense(10, activation='softmax', input_shape=(28*28,)))\n",
        "net.compile(optimizer='adam',loss='categorical_crossentropy',metrics=['accuracy'])"
      ],
      "execution_count": 44,
      "outputs": []
    },
    {
      "cell_type": "code",
      "metadata": {
        "id": "PVAs1tYac8e2"
      },
      "source": [
        "x_train = x.reshape((60000, 28*28))\n",
        "x_train = x_train/255\n",
        "\n",
        "x_test = xtest.reshape((10000, 28*28))\n",
        "x_test = x_test/255"
      ],
      "execution_count": 45,
      "outputs": []
    },
    {
      "cell_type": "code",
      "metadata": {
        "id": "g3Ia3l0MdPF-",
        "outputId": "174468de-cf12-415f-db5c-87be7326a8c4",
        "colab": {
          "base_uri": "https://localhost:8080/",
          "height": 395
        }
      },
      "source": [
        "net.fit(x_train, y_train, epochs=10)"
      ],
      "execution_count": 46,
      "outputs": [
        {
          "output_type": "stream",
          "text": [
            "Epoch 1/10\n",
            "1875/1875 [==============================] - 2s 1ms/step - loss: 0.4686 - accuracy: 0.8772\n",
            "Epoch 2/10\n",
            "1875/1875 [==============================] - 2s 1ms/step - loss: 0.3036 - accuracy: 0.9156\n",
            "Epoch 3/10\n",
            "1875/1875 [==============================] - 2s 1ms/step - loss: 0.2832 - accuracy: 0.9208\n",
            "Epoch 4/10\n",
            "1875/1875 [==============================] - 2s 1ms/step - loss: 0.2732 - accuracy: 0.9237\n",
            "Epoch 5/10\n",
            "1875/1875 [==============================] - 2s 1ms/step - loss: 0.2668 - accuracy: 0.9256\n",
            "Epoch 6/10\n",
            "1875/1875 [==============================] - 2s 1ms/step - loss: 0.2615 - accuracy: 0.9274\n",
            "Epoch 7/10\n",
            "1875/1875 [==============================] - 2s 1ms/step - loss: 0.2579 - accuracy: 0.9286\n",
            "Epoch 8/10\n",
            "1875/1875 [==============================] - 2s 1ms/step - loss: 0.2554 - accuracy: 0.9288\n",
            "Epoch 9/10\n",
            "1875/1875 [==============================] - 2s 1ms/step - loss: 0.2530 - accuracy: 0.9300\n",
            "Epoch 10/10\n",
            "1875/1875 [==============================] - 2s 1ms/step - loss: 0.2511 - accuracy: 0.9305\n"
          ],
          "name": "stdout"
        },
        {
          "output_type": "execute_result",
          "data": {
            "text/plain": [
              "<tensorflow.python.keras.callbacks.History at 0x7ff1e9efc860>"
            ]
          },
          "metadata": {
            "tags": []
          },
          "execution_count": 46
        }
      ]
    },
    {
      "cell_type": "code",
      "metadata": {
        "id": "iHCVE1l6d3Hc",
        "outputId": "38ec1448-aded-46b3-9baa-64cd650e4c77",
        "colab": {
          "base_uri": "https://localhost:8080/",
          "height": 283
        }
      },
      "source": [
        "plt.imshow(xtest[7])"
      ],
      "execution_count": 47,
      "outputs": [
        {
          "output_type": "execute_result",
          "data": {
            "text/plain": [
              "<matplotlib.image.AxesImage at 0x7ff1e9efcc18>"
            ]
          },
          "metadata": {
            "tags": []
          },
          "execution_count": 47
        },
        {
          "output_type": "display_data",
          "data": {
            "image/png": "[encoded data removed]",
            "text/plain": [
              "<Figure size 432x288 with 1 Axes>"
            ]
          },
          "metadata": {
            "tags": [],
            "needs_background": "light"
          }
        }
      ]
    },
    {
      "cell_type": "code",
      "metadata": {
        "id": "kDiqZ_lmeIko",
        "outputId": "9813b567-66fa-4ea9-90f6-f496100ca083",
        "colab": {
          "base_uri": "https://localhost:8080/",
          "height": 35
        }
      },
      "source": [
        "np.argmax(net.predict(x_test)[7])"
      ],
      "execution_count": 48,
      "outputs": [
        {
          "output_type": "execute_result",
          "data": {
            "text/plain": [
              "9"
            ]
          },
          "metadata": {
            "tags": []
          },
          "execution_count": 48
        }
      ]
    },
    {
      "cell_type": "code",
      "metadata": {
        "id": "Cdh1uNbHfj6O",
        "outputId": "379ec459-bb18-40ef-a2b1-bbaa7d52def8",
        "colab": {
          "base_uri": "https://localhost:8080/",
          "height": 35
        }
      },
      "source": [
        "y_test[7]"
      ],
      "execution_count": 49,
      "outputs": [
        {
          "output_type": "execute_result",
          "data": {
            "text/plain": [
              "array([0., 0., 0., 0., 0., 0., 0., 0., 0., 1.], dtype=float32)"
            ]
          },
          "metadata": {
            "tags": []
          },
          "execution_count": 49
        }
      ]
    },
    {
      "cell_type": "code",
      "metadata": {
        "id": "2BpnKbnTfqFZ",
        "outputId": "07169807-3882-4d67-a861-96c4ad8b075f",
        "colab": {
          "base_uri": "https://localhost:8080/",
          "height": 53
        }
      },
      "source": [
        "net.evaluate(x_test,y_test)"
      ],
      "execution_count": 50,
      "outputs": [
        {
          "output_type": "stream",
          "text": [
            "313/313 [==============================] - 0s 919us/step - loss: 0.2687 - accuracy: 0.9267\n"
          ],
          "name": "stdout"
        },
        {
          "output_type": "execute_result",
          "data": {
            "text/plain": [
              "[0.26873183250427246, 0.9266999959945679]"
            ]
          },
          "metadata": {
            "tags": []
          },
          "execution_count": 50
        }
      ]
    },
    {
      "cell_type": "markdown",
      "metadata": {
        "id": "KdkokX1yg8WC"
      },
      "source": [
        "MNIST\n",
        "2. Support Vector Machine"
      ]
    },
    {
      "cell_type": "code",
      "metadata": {
        "id": "pwh99F2UhCBX",
        "outputId": "dc31a912-a0f1-4e88-e456-c16ce00cddc1",
        "colab": {
          "base_uri": "https://localhost:8080/",
          "height": 35
        }
      },
      "source": [
        "from sklearn.datasets import fetch_openml\n",
        "mnist = fetch_openml('mnist_784', version=1)\n",
        "print(list(mnist))\n",
        "x, y = mnist['data'], mnist['target']"
      ],
      "execution_count": 56,
      "outputs": [
        {
          "output_type": "stream",
          "text": [
            "['data', 'target', 'frame', 'feature_names', 'target_names', 'DESCR', 'details', 'categories', 'url']\n"
          ],
          "name": "stdout"
        }
      ]
    },
    {
      "cell_type": "code",
      "metadata": {
        "id": "y2D8XqshjO46"
      },
      "source": [
        "import matplotlib.pyplot as plt\n",
        "from sklearn.model_selection import train_test_split\n",
        "%matplotlib inline\n",
        "x_train, x_test, y_train, y_test = train_test_split(x, y, stratify=y, test_size=0.3, random_state=42)"
      ],
      "execution_count": 60,
      "outputs": []
    },
    {
      "cell_type": "code",
      "metadata": {
        "id": "nMW3TS6JmcjK",
        "outputId": "6f6a367c-5118-4893-edec-5c7ac23ce2d2",
        "colab": {
          "base_uri": "https://localhost:8080/",
          "height": 91
        }
      },
      "source": [
        "import numpy as np\n",
        "from sklearn.svm import LinearSVC\n",
        "lin_clf = LinearSVC(random_state=42)\n",
        "lin_clf.fit(x_train, y_train)\n",
        "from sklearn.metrics import accuracy_score\n",
        "y_pred = lin_clf.predict(x_train)\n",
        "accuracy_score(y_train, y_pred)"
      ],
      "execution_count": 61,
      "outputs": [
        {
          "output_type": "stream",
          "text": [
            "/usr/local/lib/python3.6/dist-packages/sklearn/svm/_base.py:947: ConvergenceWarning: Liblinear failed to converge, increase the number of iterations.\n",
            "  \"the number of iterations.\", ConvergenceWarning)\n"
          ],
          "name": "stderr"
        },
        {
          "output_type": "execute_result",
          "data": {
            "text/plain": [
              "0.8953469387755102"
            ]
          },
          "metadata": {
            "tags": []
          },
          "execution_count": 61
        }
      ]
    },
    {
      "cell_type": "code",
      "metadata": {
        "id": "lGsexdx5nzsY"
      },
      "source": [
        "from sklearn.preprocessing import StandardScaler\n",
        "from sklearn.svm import SVC\n",
        "scaler = StandardScaler()\n",
        "x_train_scaled = scaler.fit_transform(x_train.astype(np.float32))\n",
        "x_test_scaled = scaler.fit_transform(x_test.astype(np.float32))"
      ],
      "execution_count": 62,
      "outputs": []
    },
    {
      "cell_type": "code",
      "metadata": {
        "id": "RYkE4NP71GrC",
        "outputId": "f1a7a0d1-f7e5-430d-a091-d2023c03f46f",
        "colab": {
          "base_uri": "https://localhost:8080/",
          "height": 91
        }
      },
      "source": [
        "lin_clf = LinearSVC(random_state=42)\n",
        "lin_clf.fit(x_train_scaled, y_train)\n",
        "\n",
        "y_pred = lin_clf.predict(x_train_scaled)\n",
        "\n",
        "accuracy_score(y_train, y_pred)"
      ],
      "execution_count": 63,
      "outputs": [
        {
          "output_type": "stream",
          "text": [
            "/usr/local/lib/python3.6/dist-packages/sklearn/svm/_base.py:947: ConvergenceWarning: Liblinear failed to converge, increase the number of iterations.\n",
            "  \"the number of iterations.\", ConvergenceWarning)\n"
          ],
          "name": "stderr"
        },
        {
          "output_type": "execute_result",
          "data": {
            "text/plain": [
              "0.9251632653061225"
            ]
          },
          "metadata": {
            "tags": []
          },
          "execution_count": 63
        }
      ]
    },
    {
      "cell_type": "code",
      "metadata": {
        "id": "b_UHga-x1jlF",
        "outputId": "e99e71de-c4a1-4dd3-e253-fa49c863aa90",
        "colab": {
          "base_uri": "https://localhost:8080/",
          "height": 1000
        }
      },
      "source": [
        "from sklearn.model_selection import RandomizedSearchCV\n",
        "from scipy.stats import reciprocal, uniform\n",
        "svm_clf = SVC(decision_function_shape=\"ovr\", gamma=\"auto\")\n",
        "\n",
        "param_distributions = {\"gamma\": reciprocal(0.001, 0.1), \"C\": uniform(1,10)}\n",
        "rnd_search_cv = RandomizedSearchCV(svm_clf, param_distributions, n_iter=10, verbose=2, cv=3)\n",
        "rnd_search_cv.fit(x_train_scaled[:1000], y_train[:1000])"
      ],
      "execution_count": 64,
      "outputs": [
        {
          "output_type": "stream",
          "text": [
            "Fitting 3 folds for each of 10 candidates, totalling 30 fits\n",
            "[CV] C=10.62998845878543, gamma=0.006809094315431854 .................\n"
          ],
          "name": "stdout"
        },
        {
          "output_type": "stream",
          "text": [
            "[Parallel(n_jobs=1)]: Using backend SequentialBackend with 1 concurrent workers.\n"
          ],
          "name": "stderr"
        },
        {
          "output_type": "stream",
          "text": [
            "[CV] .. C=10.62998845878543, gamma=0.006809094315431854, total=   1.3s\n",
            "[CV] C=10.62998845878543, gamma=0.006809094315431854 .................\n"
          ],
          "name": "stdout"
        },
        {
          "output_type": "stream",
          "text": [
            "[Parallel(n_jobs=1)]: Done   1 out of   1 | elapsed:    1.3s remaining:    0.0s\n"
          ],
          "name": "stderr"
        },
        {
          "output_type": "stream",
          "text": [
            "[CV] .. C=10.62998845878543, gamma=0.006809094315431854, total=   1.3s\n",
            "[CV] C=10.62998845878543, gamma=0.006809094315431854 .................\n",
            "[CV] .. C=10.62998845878543, gamma=0.006809094315431854, total=   1.3s\n",
            "[CV] C=10.593722084321056, gamma=0.0018635792610604833 ...............\n",
            "[CV]  C=10.593722084321056, gamma=0.0018635792610604833, total=   1.0s\n",
            "[CV] C=10.593722084321056, gamma=0.0018635792610604833 ...............\n",
            "[CV]  C=10.593722084321056, gamma=0.0018635792610604833, total=   1.1s\n",
            "[CV] C=10.593722084321056, gamma=0.0018635792610604833 ...............\n",
            "[CV]  C=10.593722084321056, gamma=0.0018635792610604833, total=   1.1s\n",
            "[CV] C=8.429503146169155, gamma=0.018326620101419906 .................\n",
            "[CV] .. C=8.429503146169155, gamma=0.018326620101419906, total=   1.3s\n",
            "[CV] C=8.429503146169155, gamma=0.018326620101419906 .................\n",
            "[CV] .. C=8.429503146169155, gamma=0.018326620101419906, total=   1.3s\n",
            "[CV] C=8.429503146169155, gamma=0.018326620101419906 .................\n",
            "[CV] .. C=8.429503146169155, gamma=0.018326620101419906, total=   1.3s\n",
            "[CV] C=2.0752485258484556, gamma=0.013846071395477938 ................\n",
            "[CV] . C=2.0752485258484556, gamma=0.013846071395477938, total=   1.3s\n",
            "[CV] C=2.0752485258484556, gamma=0.013846071395477938 ................\n",
            "[CV] . C=2.0752485258484556, gamma=0.013846071395477938, total=   1.3s\n",
            "[CV] C=2.0752485258484556, gamma=0.013846071395477938 ................\n",
            "[CV] . C=2.0752485258484556, gamma=0.013846071395477938, total=   1.3s\n",
            "[CV] C=6.747222453945591, gamma=0.0044396288298778445 ................\n",
            "[CV] . C=6.747222453945591, gamma=0.0044396288298778445, total=   1.2s\n",
            "[CV] C=6.747222453945591, gamma=0.0044396288298778445 ................\n",
            "[CV] . C=6.747222453945591, gamma=0.0044396288298778445, total=   1.2s\n",
            "[CV] C=6.747222453945591, gamma=0.0044396288298778445 ................\n",
            "[CV] . C=6.747222453945591, gamma=0.0044396288298778445, total=   1.3s\n",
            "[CV] C=7.443105411712111, gamma=0.009840994313700526 .................\n",
            "[CV] .. C=7.443105411712111, gamma=0.009840994313700526, total=   1.3s\n",
            "[CV] C=7.443105411712111, gamma=0.009840994313700526 .................\n",
            "[CV] .. C=7.443105411712111, gamma=0.009840994313700526, total=   1.3s\n",
            "[CV] C=7.443105411712111, gamma=0.009840994313700526 .................\n",
            "[CV] .. C=7.443105411712111, gamma=0.009840994313700526, total=   1.3s\n",
            "[CV] C=2.671802043318431, gamma=0.00651626549155659 ..................\n",
            "[CV] ... C=2.671802043318431, gamma=0.00651626549155659, total=   1.3s\n",
            "[CV] C=2.671802043318431, gamma=0.00651626549155659 ..................\n",
            "[CV] ... C=2.671802043318431, gamma=0.00651626549155659, total=   1.3s\n",
            "[CV] C=2.671802043318431, gamma=0.00651626549155659 ..................\n",
            "[CV] ... C=2.671802043318431, gamma=0.00651626549155659, total=   1.3s\n",
            "[CV] C=3.661735555598127, gamma=0.0016846758960787896 ................\n",
            "[CV] . C=3.661735555598127, gamma=0.0016846758960787896, total=   1.0s\n",
            "[CV] C=3.661735555598127, gamma=0.0016846758960787896 ................\n",
            "[CV] . C=3.661735555598127, gamma=0.0016846758960787896, total=   1.0s\n",
            "[CV] C=3.661735555598127, gamma=0.0016846758960787896 ................\n",
            "[CV] . C=3.661735555598127, gamma=0.0016846758960787896, total=   1.1s\n",
            "[CV] C=6.662584998271441, gamma=0.0018252802823852609 ................\n",
            "[CV] . C=6.662584998271441, gamma=0.0018252802823852609, total=   1.0s\n",
            "[CV] C=6.662584998271441, gamma=0.0018252802823852609 ................\n",
            "[CV] . C=6.662584998271441, gamma=0.0018252802823852609, total=   1.0s\n",
            "[CV] C=6.662584998271441, gamma=0.0018252802823852609 ................\n",
            "[CV] . C=6.662584998271441, gamma=0.0018252802823852609, total=   1.1s\n",
            "[CV] C=6.118472068705438, gamma=0.007964125466784594 .................\n",
            "[CV] .. C=6.118472068705438, gamma=0.007964125466784594, total=   1.3s\n",
            "[CV] C=6.118472068705438, gamma=0.007964125466784594 .................\n",
            "[CV] .. C=6.118472068705438, gamma=0.007964125466784594, total=   1.3s\n",
            "[CV] C=6.118472068705438, gamma=0.007964125466784594 .................\n",
            "[CV] .. C=6.118472068705438, gamma=0.007964125466784594, total=   1.3s\n"
          ],
          "name": "stdout"
        },
        {
          "output_type": "stream",
          "text": [
            "[Parallel(n_jobs=1)]: Done  30 out of  30 | elapsed:   36.3s finished\n"
          ],
          "name": "stderr"
        },
        {
          "output_type": "execute_result",
          "data": {
            "text/plain": [
              "RandomizedSearchCV(cv=3, error_score=nan,\n",
              "                   estimator=SVC(C=1.0, break_ties=False, cache_size=200,\n",
              "                                 class_weight=None, coef0=0.0,\n",
              "                                 decision_function_shape='ovr', degree=3,\n",
              "                                 gamma='auto', kernel='rbf', max_iter=-1,\n",
              "                                 probability=False, random_state=None,\n",
              "                                 shrinking=True, tol=0.001, verbose=False),\n",
              "                   iid='deprecated', n_iter=10, n_jobs=None,\n",
              "                   param_distributions={'C': <scipy.stats._distn_infrastructure.rv_frozen object at 0x7ff1e54c2b00>,\n",
              "                                        'gamma': <scipy.stats._distn_infrastructure.rv_frozen object at 0x7ff1e54c27f0>},\n",
              "                   pre_dispatch='2*n_jobs', random_state=None, refit=True,\n",
              "                   return_train_score=False, scoring=None, verbose=2)"
            ]
          },
          "metadata": {
            "tags": []
          },
          "execution_count": 64
        }
      ]
    },
    {
      "cell_type": "code",
      "metadata": {
        "id": "aOlY6Cex3sSk",
        "outputId": "18e512af-980b-4e1f-fd7e-c43271b59958",
        "colab": {
          "base_uri": "https://localhost:8080/",
          "height": 89
        }
      },
      "source": [
        "rnd_search_cv.best_estimator_"
      ],
      "execution_count": 65,
      "outputs": [
        {
          "output_type": "execute_result",
          "data": {
            "text/plain": [
              "SVC(C=10.593722084321056, break_ties=False, cache_size=200, class_weight=None,\n",
              "    coef0=0.0, decision_function_shape='ovr', degree=3,\n",
              "    gamma=0.0018635792610604833, kernel='rbf', max_iter=-1, probability=False,\n",
              "    random_state=None, shrinking=True, tol=0.001, verbose=False)"
            ]
          },
          "metadata": {
            "tags": []
          },
          "execution_count": 65
        }
      ]
    },
    {
      "cell_type": "code",
      "metadata": {
        "id": "FL0FIfnM3_Lp",
        "outputId": "ea776cfd-0fd7-4a08-b59e-7941da537ddf",
        "colab": {
          "base_uri": "https://localhost:8080/",
          "height": 35
        }
      },
      "source": [
        "rnd_search_cv.best_score_"
      ],
      "execution_count": 66,
      "outputs": [
        {
          "output_type": "execute_result",
          "data": {
            "text/plain": [
              "0.893003782225339"
            ]
          },
          "metadata": {
            "tags": []
          },
          "execution_count": 66
        }
      ]
    },
    {
      "cell_type": "code",
      "metadata": {
        "id": "1XyadNKd4DXl",
        "outputId": "0b9819cf-a52d-4235-a391-4cbf400f83fd",
        "colab": {
          "base_uri": "https://localhost:8080/",
          "height": 53
        }
      },
      "source": [
        "rnd_search_cv.best_estimator_.fit(x_train_scaled, y_train)\n",
        "\n",
        "y_pred = rnd_search_cv.best_estimator_.predict(x_train_scaled)\n",
        "print(accuracy_score(y_train, y_pred))\n",
        "\n",
        "y_pred = rnd_search_cv.best_estimator_.predict(x_test_scaled)\n",
        "print(accuracy_score(y_test, y_pred))"
      ],
      "execution_count": 67,
      "outputs": [
        {
          "output_type": "stream",
          "text": [
            "0.9997959183673469\n",
            "0.9683809523809523\n"
          ],
          "name": "stdout"
        }
      ]
    },
    {
      "cell_type": "markdown",
      "metadata": {
        "id": "huTMHFINAtFj"
      },
      "source": [
        "MNIST\n",
        "3. Random forest"
      ]
    },
    {
      "cell_type": "code",
      "metadata": {
        "id": "0LKrnWopBDqO",
        "outputId": "a32ac0f7-fd83-41d8-a5db-5f404036be10",
        "colab": {
          "base_uri": "https://localhost:8080/",
          "height": 53
        }
      },
      "source": [
        "from sklearn.datasets import fetch_openml\n",
        "mnist = fetch_openml('mnist_784', version=1)\n",
        "\n",
        "x, y = mnist['data'], mnist['target']\n",
        "print(\"x shape = \", x.shape)\n",
        "print(\"y shape = \", y.shape)"
      ],
      "execution_count": 68,
      "outputs": [
        {
          "output_type": "stream",
          "text": [
            "x shape =  (70000, 784)\n",
            "y shape =  (70000,)\n"
          ],
          "name": "stdout"
        }
      ]
    },
    {
      "cell_type": "code",
      "metadata": {
        "id": "lmL-WMJ1Bc9k",
        "outputId": "df995c1f-43e2-4c7f-cc79-04f1d508a59c",
        "colab": {
          "base_uri": "https://localhost:8080/",
          "height": 266
        }
      },
      "source": [
        "%matplotlib inline\n",
        "\n",
        "import matplotlib\n",
        "import matplotlib.pyplot as plt\n",
        "sample = x[1000]\n",
        "sample = sample.reshape(28, 28)\n",
        "\n",
        "plt.imshow(sample, cmap=matplotlib.cm.binary, interpolation='nearest')\n",
        "\n",
        "plt.axis('off')\n",
        "plt.show()\n",
        "print(\"Answer = \", y[1000])"
      ],
      "execution_count": 69,
      "outputs": [
        {
          "output_type": "display_data",
          "data": {
            "image/png": "[encoded data removed]",
            "text/plain": [
              "<Figure size 432x288 with 1 Axes>"
            ]
          },
          "metadata": {
            "tags": [],
            "needs_background": "light"
          }
        },
        {
          "output_type": "stream",
          "text": [
            "Answer =  0\n"
          ],
          "name": "stdout"
        }
      ]
    },
    {
      "cell_type": "code",
      "metadata": {
        "id": "HRruJfkBCMSu"
      },
      "source": [
        "x_train, x_test, y_train, y_test = x[:60000], x[60000:], y[:60000], y[60000:]\n",
        "import numpy as np\n",
        "shuffle_index = np.random.permutation(60000)\n",
        "x_train, y_train = x_train[shuffle_index], y_train[shuffle_index]"
      ],
      "execution_count": 70,
      "outputs": []
    },
    {
      "cell_type": "code",
      "metadata": {
        "id": "6tzulhdQCsM7",
        "outputId": "aa443054-f5b0-4350-e4b7-65ba7c3fd5d5",
        "colab": {
          "base_uri": "https://localhost:8080/",
          "height": 161
        }
      },
      "source": [
        "from sklearn.ensemble import RandomForestClassifier\n",
        "clf = RandomForestClassifier()\n",
        "clf.fit(x_train, y_train)"
      ],
      "execution_count": 73,
      "outputs": [
        {
          "output_type": "execute_result",
          "data": {
            "text/plain": [
              "RandomForestClassifier(bootstrap=True, ccp_alpha=0.0, class_weight=None,\n",
              "                       criterion='gini', max_depth=None, max_features='auto',\n",
              "                       max_leaf_nodes=None, max_samples=None,\n",
              "                       min_impurity_decrease=0.0, min_impurity_split=None,\n",
              "                       min_samples_leaf=1, min_samples_split=2,\n",
              "                       min_weight_fraction_leaf=0.0, n_estimators=100,\n",
              "                       n_jobs=None, oob_score=False, random_state=None,\n",
              "                       verbose=0, warm_start=False)"
            ]
          },
          "metadata": {
            "tags": []
          },
          "execution_count": 73
        }
      ]
    },
    {
      "cell_type": "code",
      "metadata": {
        "id": "2rD2fdTSDAwE",
        "outputId": "5cc5b64b-f62f-462b-df38-7b11095ce1b2",
        "colab": {
          "base_uri": "https://localhost:8080/",
          "height": 35
        }
      },
      "source": [
        "from sklearn.model_selection import cross_val_score\n",
        "cross_val_score(clf, x_train, y_train, cv=3, scoring=\"accuracy\")"
      ],
      "execution_count": 74,
      "outputs": [
        {
          "output_type": "execute_result",
          "data": {
            "text/plain": [
              "array([0.96245, 0.96735, 0.96645])"
            ]
          },
          "metadata": {
            "tags": []
          },
          "execution_count": 74
        }
      ]
    },
    {
      "cell_type": "code",
      "metadata": {
        "id": "3qwXtMDYDpXm",
        "outputId": "26312959-cf9d-4337-b397-ec5f54d84417",
        "colab": {
          "base_uri": "https://localhost:8080/",
          "height": 35
        }
      },
      "source": [
        "from sklearn.preprocessing import StandardScaler\n",
        "scaler = StandardScaler()\n",
        "\n",
        "x_train_scale = scaler.fit_transform(x_train)\n",
        "clf.fit(x_train_scale, y_train)\n",
        "\n",
        "cross_val_score(clf, x_train, y_train, cv=3, scoring=\"accuracy\")"
      ],
      "execution_count": 75,
      "outputs": [
        {
          "output_type": "execute_result",
          "data": {
            "text/plain": [
              "array([0.96365, 0.96695, 0.96675])"
            ]
          },
          "metadata": {
            "tags": []
          },
          "execution_count": 75
        }
      ]
    },
    {
      "cell_type": "code",
      "metadata": {
        "id": "tbZ6cbyVEi30",
        "outputId": "fce59029-5d28-4fca-a7a6-45bb89aa879f",
        "colab": {
          "base_uri": "https://localhost:8080/",
          "height": 35
        }
      },
      "source": [
        "x_test_scale = scaler.fit_transform(x_test)\n",
        "prediction = clf.predict(x_test_scale)\n",
        "result = (prediction == y_test).mean()\n",
        "print(result)"
      ],
      "execution_count": 76,
      "outputs": [
        {
          "output_type": "stream",
          "text": [
            "0.9572\n"
          ],
          "name": "stdout"
        }
      ]
    },
    {
      "cell_type": "markdown",
      "metadata": {
        "id": "pR6qOCXVGdAe"
      },
      "source": [
        "1. Softmax Regression - 93%\n",
        "2. Support Vector Machine - 89%\n",
        "3. Random forest - 96%\n",
        "\n",
        "스케일링 같은 어떠한 전처리 없이 실행한 정확도는 첫번째 소수점 반올림한 기준으로 3번 랜덤포레스트가 가장 높았습니다. 반면 가장 정확도가 낮았던 결과는 2번 SVM 이었습니다."
      ]
    },
    {
      "cell_type": "code",
      "metadata": {
        "id": "BAT3sMzMG7rt"
      },
      "source": [
        ""
      ],
      "execution_count": null,
      "outputs": []
    }
  ]
}